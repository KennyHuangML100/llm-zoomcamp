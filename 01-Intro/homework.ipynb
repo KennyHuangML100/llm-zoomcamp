{
 "cells": [
  {
   "cell_type": "markdown",
   "id": "a408a2d9",
   "metadata": {},
   "source": [
    "# test"
   ]
  }
 ],
 "metadata": {
  "language_info": {
   "name": "python"
  }
 },
 "nbformat": 4,
 "nbformat_minor": 5
}
